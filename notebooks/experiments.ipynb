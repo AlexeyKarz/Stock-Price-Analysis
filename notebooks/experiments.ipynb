{
 "cells": [
  {
   "cell_type": "code",
   "id": "initial_id",
   "metadata": {
    "collapsed": true,
    "ExecuteTime": {
     "end_time": "2024-06-26T13:46:01.996236Z",
     "start_time": "2024-06-26T13:45:58.061058Z"
    }
   },
   "source": [
    "import requests\n",
    "from matplotlib import pyplot as plt\n",
    "from datetime import datetime\n",
    "import json\n",
    "import pandas as pd\n",
    "import numpy as np\n",
    "import tensorflow as tf"
   ],
   "outputs": [],
   "execution_count": 1
  },
  {
   "metadata": {},
   "cell_type": "markdown",
   "source": "## Load the model",
   "id": "2a27657bd075dfe0"
  },
  {
   "metadata": {
    "ExecuteTime": {
     "end_time": "2024-06-26T14:17:30.649759Z",
     "start_time": "2024-06-26T14:17:30.577082Z"
    }
   },
   "cell_type": "code",
   "source": [
    "from tensorflow.keras.models import load_model\n",
    "\n",
    "model = load_model('../model_25s_7d.h5')"
   ],
   "id": "450509805689c6a1",
   "outputs": [
    {
     "name": "stderr",
     "output_type": "stream",
     "text": [
      "WARNING:absl:Compiled the loaded model, but the compiled metrics have yet to be built. `model.compile_metrics` will be empty until you train or evaluate the model.\n",
      "WARNING:absl:Error in loading the saved optimizer state. As a result, your model is starting with a freshly initialized optimizer.\n"
     ]
    }
   ],
   "execution_count": 42
  },
  {
   "metadata": {
    "ExecuteTime": {
     "end_time": "2024-06-26T14:17:31.554956Z",
     "start_time": "2024-06-26T14:17:31.523558Z"
    }
   },
   "cell_type": "code",
   "source": "model.summary()",
   "id": "ee42512b6c093b05",
   "outputs": [
    {
     "data": {
      "text/plain": [
       "\u001B[1mModel: \"model_large_scale\"\u001B[0m\n"
      ],
      "text/html": [
       "<pre style=\"white-space:pre;overflow-x:auto;line-height:normal;font-family:Menlo,'DejaVu Sans Mono',consolas,'Courier New',monospace\"><span style=\"font-weight: bold\">Model: \"model_large_scale\"</span>\n",
       "</pre>\n"
      ]
     },
     "metadata": {},
     "output_type": "display_data"
    },
    {
     "data": {
      "text/plain": [
       "┏━━━━━━━━━━━━━━━━━━━━━━━━━━━━━━━━━┳━━━━━━━━━━━━━━━━━━━━━━━━┳━━━━━━━━━━━━━━━┓\n",
       "┃\u001B[1m \u001B[0m\u001B[1mLayer (type)                   \u001B[0m\u001B[1m \u001B[0m┃\u001B[1m \u001B[0m\u001B[1mOutput Shape          \u001B[0m\u001B[1m \u001B[0m┃\u001B[1m \u001B[0m\u001B[1m      Param #\u001B[0m\u001B[1m \u001B[0m┃\n",
       "┡━━━━━━━━━━━━━━━━━━━━━━━━━━━━━━━━━╇━━━━━━━━━━━━━━━━━━━━━━━━╇━━━━━━━━━━━━━━━┩\n",
       "│ dense_2 (\u001B[38;5;33mDense\u001B[0m)                 │ (\u001B[38;5;45mNone\u001B[0m, \u001B[38;5;34m128\u001B[0m)            │         \u001B[38;5;34m3,968\u001B[0m │\n",
       "├─────────────────────────────────┼────────────────────────┼───────────────┤\n",
       "│ dense_3 (\u001B[38;5;33mDense\u001B[0m)                 │ (\u001B[38;5;45mNone\u001B[0m, \u001B[38;5;34m7\u001B[0m)              │           \u001B[38;5;34m903\u001B[0m │\n",
       "└─────────────────────────────────┴────────────────────────┴───────────────┘\n"
      ],
      "text/html": [
       "<pre style=\"white-space:pre;overflow-x:auto;line-height:normal;font-family:Menlo,'DejaVu Sans Mono',consolas,'Courier New',monospace\">┏━━━━━━━━━━━━━━━━━━━━━━━━━━━━━━━━━┳━━━━━━━━━━━━━━━━━━━━━━━━┳━━━━━━━━━━━━━━━┓\n",
       "┃<span style=\"font-weight: bold\"> Layer (type)                    </span>┃<span style=\"font-weight: bold\"> Output Shape           </span>┃<span style=\"font-weight: bold\">       Param # </span>┃\n",
       "┡━━━━━━━━━━━━━━━━━━━━━━━━━━━━━━━━━╇━━━━━━━━━━━━━━━━━━━━━━━━╇━━━━━━━━━━━━━━━┩\n",
       "│ dense_2 (<span style=\"color: #0087ff; text-decoration-color: #0087ff\">Dense</span>)                 │ (<span style=\"color: #00d7ff; text-decoration-color: #00d7ff\">None</span>, <span style=\"color: #00af00; text-decoration-color: #00af00\">128</span>)            │         <span style=\"color: #00af00; text-decoration-color: #00af00\">3,968</span> │\n",
       "├─────────────────────────────────┼────────────────────────┼───────────────┤\n",
       "│ dense_3 (<span style=\"color: #0087ff; text-decoration-color: #0087ff\">Dense</span>)                 │ (<span style=\"color: #00d7ff; text-decoration-color: #00d7ff\">None</span>, <span style=\"color: #00af00; text-decoration-color: #00af00\">7</span>)              │           <span style=\"color: #00af00; text-decoration-color: #00af00\">903</span> │\n",
       "└─────────────────────────────────┴────────────────────────┴───────────────┘\n",
       "</pre>\n"
      ]
     },
     "metadata": {},
     "output_type": "display_data"
    },
    {
     "data": {
      "text/plain": [
       "\u001B[1m Total params: \u001B[0m\u001B[38;5;34m4,873\u001B[0m (19.04 KB)\n"
      ],
      "text/html": [
       "<pre style=\"white-space:pre;overflow-x:auto;line-height:normal;font-family:Menlo,'DejaVu Sans Mono',consolas,'Courier New',monospace\"><span style=\"font-weight: bold\"> Total params: </span><span style=\"color: #00af00; text-decoration-color: #00af00\">4,873</span> (19.04 KB)\n",
       "</pre>\n"
      ]
     },
     "metadata": {},
     "output_type": "display_data"
    },
    {
     "data": {
      "text/plain": [
       "\u001B[1m Trainable params: \u001B[0m\u001B[38;5;34m4,871\u001B[0m (19.03 KB)\n"
      ],
      "text/html": [
       "<pre style=\"white-space:pre;overflow-x:auto;line-height:normal;font-family:Menlo,'DejaVu Sans Mono',consolas,'Courier New',monospace\"><span style=\"font-weight: bold\"> Trainable params: </span><span style=\"color: #00af00; text-decoration-color: #00af00\">4,871</span> (19.03 KB)\n",
       "</pre>\n"
      ]
     },
     "metadata": {},
     "output_type": "display_data"
    },
    {
     "data": {
      "text/plain": [
       "\u001B[1m Non-trainable params: \u001B[0m\u001B[38;5;34m0\u001B[0m (0.00 B)\n"
      ],
      "text/html": [
       "<pre style=\"white-space:pre;overflow-x:auto;line-height:normal;font-family:Menlo,'DejaVu Sans Mono',consolas,'Courier New',monospace\"><span style=\"font-weight: bold\"> Non-trainable params: </span><span style=\"color: #00af00; text-decoration-color: #00af00\">0</span> (0.00 B)\n",
       "</pre>\n"
      ]
     },
     "metadata": {},
     "output_type": "display_data"
    },
    {
     "data": {
      "text/plain": [
       "\u001B[1m Optimizer params: \u001B[0m\u001B[38;5;34m2\u001B[0m (12.00 B)\n"
      ],
      "text/html": [
       "<pre style=\"white-space:pre;overflow-x:auto;line-height:normal;font-family:Menlo,'DejaVu Sans Mono',consolas,'Courier New',monospace\"><span style=\"font-weight: bold\"> Optimizer params: </span><span style=\"color: #00af00; text-decoration-color: #00af00\">2</span> (12.00 B)\n",
       "</pre>\n"
      ]
     },
     "metadata": {},
     "output_type": "display_data"
    }
   ],
   "execution_count": 43
  },
  {
   "metadata": {
    "ExecuteTime": {
     "end_time": "2024-06-26T14:17:31.796820Z",
     "start_time": "2024-06-26T14:17:31.794442Z"
    }
   },
   "cell_type": "code",
   "source": [
    "WINDOW_SIZE = 30\n",
    "HORIZON = 7"
   ],
   "id": "9cc8856ef1a607d5",
   "outputs": [],
   "execution_count": 44
  },
  {
   "metadata": {},
   "cell_type": "markdown",
   "source": "## Extend the model",
   "id": "7de4436d4f73111a"
  },
  {
   "metadata": {
    "ExecuteTime": {
     "end_time": "2024-06-26T14:20:12.874400Z",
     "start_time": "2024-06-26T14:20:12.807004Z"
    }
   },
   "cell_type": "code",
   "source": [
    "from tensorflow.keras.layers import Input, Dense\n",
    "from tensorflow.keras.models import Model\n",
    "\n",
    "# Build a new model with Functional API using the loaded model and adding a new layer\n",
    "new_input = Input(shape=model.input_shape[1:])\n",
    "\n",
    "x = new_input\n",
    "for layer in model.layers[:-1]:\n",
    "    x = layer(x)\n",
    "    layer.trainable = False\n",
    "\n",
    "x = Dense(64, activation='relu')(x)\n",
    "new_output = Dense(HORIZON, activation='linear')(x)\n",
    "new_model = Model(new_input, new_output, name='new_model')\n",
    "\n",
    "# Compile the new model\n",
    "new_model.compile(optimizer='adam', loss='mean_absolute_error', metrics=['mean_absolute_error'])\n",
    "\n",
    "new_model.summary()"
   ],
   "id": "ef6bf592fc2fd525",
   "outputs": [
    {
     "data": {
      "text/plain": [
       "\u001B[1mModel: \"new_model\"\u001B[0m\n"
      ],
      "text/html": [
       "<pre style=\"white-space:pre;overflow-x:auto;line-height:normal;font-family:Menlo,'DejaVu Sans Mono',consolas,'Courier New',monospace\"><span style=\"font-weight: bold\">Model: \"new_model\"</span>\n",
       "</pre>\n"
      ]
     },
     "metadata": {},
     "output_type": "display_data"
    },
    {
     "data": {
      "text/plain": [
       "┏━━━━━━━━━━━━━━━━━━━━━━━━━━━━━━━━━┳━━━━━━━━━━━━━━━━━━━━━━━━┳━━━━━━━━━━━━━━━┓\n",
       "┃\u001B[1m \u001B[0m\u001B[1mLayer (type)                   \u001B[0m\u001B[1m \u001B[0m┃\u001B[1m \u001B[0m\u001B[1mOutput Shape          \u001B[0m\u001B[1m \u001B[0m┃\u001B[1m \u001B[0m\u001B[1m      Param #\u001B[0m\u001B[1m \u001B[0m┃\n",
       "┡━━━━━━━━━━━━━━━━━━━━━━━━━━━━━━━━━╇━━━━━━━━━━━━━━━━━━━━━━━━╇━━━━━━━━━━━━━━━┩\n",
       "│ input_layer_4 (\u001B[38;5;33mInputLayer\u001B[0m)      │ (\u001B[38;5;45mNone\u001B[0m, \u001B[38;5;34m30\u001B[0m)             │             \u001B[38;5;34m0\u001B[0m │\n",
       "├─────────────────────────────────┼────────────────────────┼───────────────┤\n",
       "│ dense_2 (\u001B[38;5;33mDense\u001B[0m)                 │ (\u001B[38;5;45mNone\u001B[0m, \u001B[38;5;34m128\u001B[0m)            │         \u001B[38;5;34m3,968\u001B[0m │\n",
       "├─────────────────────────────────┼────────────────────────┼───────────────┤\n",
       "│ dense_8 (\u001B[38;5;33mDense\u001B[0m)                 │ (\u001B[38;5;45mNone\u001B[0m, \u001B[38;5;34m64\u001B[0m)             │         \u001B[38;5;34m8,256\u001B[0m │\n",
       "├─────────────────────────────────┼────────────────────────┼───────────────┤\n",
       "│ dense_9 (\u001B[38;5;33mDense\u001B[0m)                 │ (\u001B[38;5;45mNone\u001B[0m, \u001B[38;5;34m7\u001B[0m)              │           \u001B[38;5;34m455\u001B[0m │\n",
       "└─────────────────────────────────┴────────────────────────┴───────────────┘\n"
      ],
      "text/html": [
       "<pre style=\"white-space:pre;overflow-x:auto;line-height:normal;font-family:Menlo,'DejaVu Sans Mono',consolas,'Courier New',monospace\">┏━━━━━━━━━━━━━━━━━━━━━━━━━━━━━━━━━┳━━━━━━━━━━━━━━━━━━━━━━━━┳━━━━━━━━━━━━━━━┓\n",
       "┃<span style=\"font-weight: bold\"> Layer (type)                    </span>┃<span style=\"font-weight: bold\"> Output Shape           </span>┃<span style=\"font-weight: bold\">       Param # </span>┃\n",
       "┡━━━━━━━━━━━━━━━━━━━━━━━━━━━━━━━━━╇━━━━━━━━━━━━━━━━━━━━━━━━╇━━━━━━━━━━━━━━━┩\n",
       "│ input_layer_4 (<span style=\"color: #0087ff; text-decoration-color: #0087ff\">InputLayer</span>)      │ (<span style=\"color: #00d7ff; text-decoration-color: #00d7ff\">None</span>, <span style=\"color: #00af00; text-decoration-color: #00af00\">30</span>)             │             <span style=\"color: #00af00; text-decoration-color: #00af00\">0</span> │\n",
       "├─────────────────────────────────┼────────────────────────┼───────────────┤\n",
       "│ dense_2 (<span style=\"color: #0087ff; text-decoration-color: #0087ff\">Dense</span>)                 │ (<span style=\"color: #00d7ff; text-decoration-color: #00d7ff\">None</span>, <span style=\"color: #00af00; text-decoration-color: #00af00\">128</span>)            │         <span style=\"color: #00af00; text-decoration-color: #00af00\">3,968</span> │\n",
       "├─────────────────────────────────┼────────────────────────┼───────────────┤\n",
       "│ dense_8 (<span style=\"color: #0087ff; text-decoration-color: #0087ff\">Dense</span>)                 │ (<span style=\"color: #00d7ff; text-decoration-color: #00d7ff\">None</span>, <span style=\"color: #00af00; text-decoration-color: #00af00\">64</span>)             │         <span style=\"color: #00af00; text-decoration-color: #00af00\">8,256</span> │\n",
       "├─────────────────────────────────┼────────────────────────┼───────────────┤\n",
       "│ dense_9 (<span style=\"color: #0087ff; text-decoration-color: #0087ff\">Dense</span>)                 │ (<span style=\"color: #00d7ff; text-decoration-color: #00d7ff\">None</span>, <span style=\"color: #00af00; text-decoration-color: #00af00\">7</span>)              │           <span style=\"color: #00af00; text-decoration-color: #00af00\">455</span> │\n",
       "└─────────────────────────────────┴────────────────────────┴───────────────┘\n",
       "</pre>\n"
      ]
     },
     "metadata": {},
     "output_type": "display_data"
    },
    {
     "data": {
      "text/plain": [
       "\u001B[1m Total params: \u001B[0m\u001B[38;5;34m12,679\u001B[0m (49.53 KB)\n"
      ],
      "text/html": [
       "<pre style=\"white-space:pre;overflow-x:auto;line-height:normal;font-family:Menlo,'DejaVu Sans Mono',consolas,'Courier New',monospace\"><span style=\"font-weight: bold\"> Total params: </span><span style=\"color: #00af00; text-decoration-color: #00af00\">12,679</span> (49.53 KB)\n",
       "</pre>\n"
      ]
     },
     "metadata": {},
     "output_type": "display_data"
    },
    {
     "data": {
      "text/plain": [
       "\u001B[1m Trainable params: \u001B[0m\u001B[38;5;34m8,711\u001B[0m (34.03 KB)\n"
      ],
      "text/html": [
       "<pre style=\"white-space:pre;overflow-x:auto;line-height:normal;font-family:Menlo,'DejaVu Sans Mono',consolas,'Courier New',monospace\"><span style=\"font-weight: bold\"> Trainable params: </span><span style=\"color: #00af00; text-decoration-color: #00af00\">8,711</span> (34.03 KB)\n",
       "</pre>\n"
      ]
     },
     "metadata": {},
     "output_type": "display_data"
    },
    {
     "data": {
      "text/plain": [
       "\u001B[1m Non-trainable params: \u001B[0m\u001B[38;5;34m3,968\u001B[0m (15.50 KB)\n"
      ],
      "text/html": [
       "<pre style=\"white-space:pre;overflow-x:auto;line-height:normal;font-family:Menlo,'DejaVu Sans Mono',consolas,'Courier New',monospace\"><span style=\"font-weight: bold\"> Non-trainable params: </span><span style=\"color: #00af00; text-decoration-color: #00af00\">3,968</span> (15.50 KB)\n",
       "</pre>\n"
      ]
     },
     "metadata": {},
     "output_type": "display_data"
    }
   ],
   "execution_count": 50
  },
  {
   "metadata": {},
   "cell_type": "markdown",
   "source": "## Preprocessing the data",
   "id": "dd5032da7852ee27"
  },
  {
   "metadata": {
    "ExecuteTime": {
     "end_time": "2024-06-26T14:43:21.124376Z",
     "start_time": "2024-06-26T14:43:21.118010Z"
    }
   },
   "cell_type": "code",
   "source": [
    "# download the data from cache\n",
    "import os\n",
    "import pickle\n",
    "\n",
    "def load_apple_data():\n",
    "    filename = \"/Users/alexeyks/PycharmProjects/SMPP/StockMarketPP/cache/AAPL_data.pkl\"\n",
    "    if os.path.exists(filename):\n",
    "        with open(filename, 'rb') as f:\n",
    "            cached = pickle.load(f)\n",
    "            # Check if the cache is still valid, let's say we refresh it every day\n",
    "            return cached['data']\n",
    "    return None\n",
    "\n",
    "data = load_apple_data()"
   ],
   "id": "b6857e64746cf7d3",
   "outputs": [],
   "execution_count": 67
  },
  {
   "metadata": {
    "ExecuteTime": {
     "end_time": "2024-06-26T14:43:21.373160Z",
     "start_time": "2024-06-26T14:43:21.362783Z"
    }
   },
   "cell_type": "code",
   "source": [
    "# process the data\n",
    "data = data['Time Series (Daily)']\n",
    "\n",
    "df = pd.DataFrame.from_dict(data, orient='index')\n",
    "df = df.apply(pd.to_numeric)\n",
    "df.index = pd.to_datetime(df.index)\n",
    "\n",
    "close_prices = df['4. close']\n",
    "# do not use the last 30 days\n",
    "close_prices = close_prices.sort_index()[:-30]\n",
    "close_prices.head()"
   ],
   "id": "c6f34f7ddb2ad5d1",
   "outputs": [
    {
     "data": {
      "text/plain": [
       "2024-02-01    186.86\n",
       "2024-02-02    185.85\n",
       "2024-02-05    187.68\n",
       "2024-02-06    189.30\n",
       "2024-02-07    189.41\n",
       "Name: 4. close, dtype: float64"
      ]
     },
     "execution_count": 68,
     "metadata": {},
     "output_type": "execute_result"
    }
   ],
   "execution_count": 68
  },
  {
   "metadata": {},
   "cell_type": "markdown",
   "source": [
    "\n",
    "Functions from the original notebook with the initial model training"
   ],
   "id": "13322a8fd629144c"
  },
  {
   "metadata": {
    "ExecuteTime": {
     "end_time": "2024-06-26T14:43:24.671844Z",
     "start_time": "2024-06-26T14:43:24.669422Z"
    }
   },
   "cell_type": "code",
   "source": [
    "def get_labelled_windows(x, horizon=7):\n",
    "  \"\"\"\n",
    "  Creates labels for windowed dataset.\n",
    "\n",
    "  E.g. if horizon=1 (default)\n",
    "  Input: [1, 2, 3, 4, 5, 6] -> Output: ([1, 2, 3, 4, 5], [6])\n",
    "  \"\"\"\n",
    "  return x[:, :-horizon], x[:, -horizon:]"
   ],
   "id": "2250d5880345b200",
   "outputs": [],
   "execution_count": 69
  },
  {
   "metadata": {
    "ExecuteTime": {
     "end_time": "2024-06-26T14:43:25.155993Z",
     "start_time": "2024-06-26T14:43:25.151808Z"
    }
   },
   "cell_type": "code",
   "source": [
    "def make_windows(x, window_size=30, horizon=7):\n",
    "  \"\"\"\n",
    "  Turns a 1D array into a 2D array of sequential windows of window_size.\n",
    "  \"\"\"\n",
    "  # 1. Create a window of specific window_size (add the horizon on the end for later labelling)\n",
    "  window_step = np.expand_dims(np.arange(window_size+horizon), axis=0)\n",
    "  # print(f\"Window step:\\n {window_step}\")\n",
    "\n",
    "  # 2. Create a 2D array of multiple window steps (minus 1 to account for 0 indexing)\n",
    "  window_indexes = window_step + np.expand_dims(np.arange(len(x)-(window_size+horizon-1)), axis=0).T # create 2D array of windows of size window_size\n",
    "  # print(f\"Window indexes:\\n {window_indexes[:3], window_indexes[-3:], window_indexes.shape}\")\n",
    "\n",
    "  # 3. Index on the target array (time series) with 2D array of multiple window steps\n",
    "  windowed_array = x[window_indexes]\n",
    "\n",
    "  # 4. Get the labelled windows\n",
    "  windows, labels = get_labelled_windows(windowed_array, horizon=horizon)\n",
    "\n",
    "  return windows, labels"
   ],
   "id": "981fc4435188047b",
   "outputs": [],
   "execution_count": 70
  },
  {
   "metadata": {
    "ExecuteTime": {
     "end_time": "2024-06-26T14:32:06.131767Z",
     "start_time": "2024-06-26T14:32:06.128098Z"
    }
   },
   "cell_type": "code",
   "source": [
    "def make_train_test_splits(windows, labels, test_split=0.2):\n",
    "  \"\"\"\n",
    "  Splits matching pairs of windows and labels into train and test splits.\n",
    "  \"\"\"\n",
    "  split_size = int(len(windows) * (1-test_split)) # this will default to 80% train/20% test\n",
    "  train_windows = windows[:split_size]\n",
    "  train_labels = labels[:split_size]\n",
    "  test_windows = windows[split_size:]\n",
    "  test_labels = labels[split_size:]\n",
    "  return train_windows, test_windows, train_labels, test_labels"
   ],
   "id": "dfdada5e03575df5",
   "outputs": [],
   "execution_count": 61
  },
  {
   "metadata": {
    "ExecuteTime": {
     "end_time": "2024-06-26T14:43:27.074036Z",
     "start_time": "2024-06-26T14:43:27.068269Z"
    }
   },
   "cell_type": "code",
   "source": [
    "# Create windows and labels\n",
    "windows, labels = make_windows(close_prices.values, window_size=30, horizon=7)\n",
    "train_windows, test_windows, train_labels, test_labels = make_train_test_splits(windows, labels, test_split=0.1)"
   ],
   "id": "d4428b95dc9154cd",
   "outputs": [],
   "execution_count": 71
  },
  {
   "metadata": {},
   "cell_type": "markdown",
   "source": "## Train the model",
   "id": "d65b8bf71d314f93"
  },
  {
   "metadata": {
    "ExecuteTime": {
     "end_time": "2024-06-26T14:43:32.296477Z",
     "start_time": "2024-06-26T14:43:30.004766Z"
    }
   },
   "cell_type": "code",
   "source": [
    "# fit the model\n",
    "new_model.fit(x=train_windows, \n",
    "          y=train_labels, \n",
    "          epochs=100, \n",
    "          batch_size=32, \n",
    "          verbose=1, \n",
    "          validation_data=(test_windows, test_labels),\n",
    "          callbacks=[tf.keras.callbacks.EarlyStopping(monitor=\"val_loss\", patience=200, restore_best_weights=True), tf.keras.callbacks.ReduceLROnPlateau(monitor=\"val_loss\", patience=100, verbose=1)])"
   ],
   "id": "f7bbef8628d18df4",
   "outputs": [
    {
     "name": "stdout",
     "output_type": "stream",
     "text": [
      "Epoch 1/100\n",
      "\u001B[1m1/1\u001B[0m \u001B[32m━━━━━━━━━━━━━━━━━━━━\u001B[0m\u001B[37m\u001B[0m \u001B[1m0s\u001B[0m 42ms/step - loss: 4.9775 - mean_absolute_error: 4.9775 - val_loss: 5.9132 - val_mean_absolute_error: 5.9132 - learning_rate: 0.0010\n",
      "Epoch 2/100\n",
      "\u001B[1m1/1\u001B[0m \u001B[32m━━━━━━━━━━━━━━━━━━━━\u001B[0m\u001B[37m\u001B[0m \u001B[1m0s\u001B[0m 19ms/step - loss: 4.5466 - mean_absolute_error: 4.5466 - val_loss: 6.8652 - val_mean_absolute_error: 6.8652 - learning_rate: 0.0010\n",
      "Epoch 3/100\n",
      "\u001B[1m1/1\u001B[0m \u001B[32m━━━━━━━━━━━━━━━━━━━━\u001B[0m\u001B[37m\u001B[0m \u001B[1m0s\u001B[0m 20ms/step - loss: 4.0198 - mean_absolute_error: 4.0198 - val_loss: 8.0552 - val_mean_absolute_error: 8.0552 - learning_rate: 0.0010\n",
      "Epoch 4/100\n",
      "\u001B[1m1/1\u001B[0m \u001B[32m━━━━━━━━━━━━━━━━━━━━\u001B[0m\u001B[37m\u001B[0m \u001B[1m0s\u001B[0m 19ms/step - loss: 3.7406 - mean_absolute_error: 3.7406 - val_loss: 9.2678 - val_mean_absolute_error: 9.2678 - learning_rate: 0.0010\n",
      "Epoch 5/100\n",
      "\u001B[1m1/1\u001B[0m \u001B[32m━━━━━━━━━━━━━━━━━━━━\u001B[0m\u001B[37m\u001B[0m \u001B[1m0s\u001B[0m 20ms/step - loss: 3.6876 - mean_absolute_error: 3.6876 - val_loss: 10.0858 - val_mean_absolute_error: 10.0858 - learning_rate: 0.0010\n",
      "Epoch 6/100\n",
      "\u001B[1m1/1\u001B[0m \u001B[32m━━━━━━━━━━━━━━━━━━━━\u001B[0m\u001B[37m\u001B[0m \u001B[1m0s\u001B[0m 19ms/step - loss: 3.7219 - mean_absolute_error: 3.7219 - val_loss: 10.3630 - val_mean_absolute_error: 10.3630 - learning_rate: 0.0010\n",
      "Epoch 7/100\n",
      "\u001B[1m1/1\u001B[0m \u001B[32m━━━━━━━━━━━━━━━━━━━━\u001B[0m\u001B[37m\u001B[0m \u001B[1m0s\u001B[0m 22ms/step - loss: 3.6999 - mean_absolute_error: 3.6999 - val_loss: 10.1566 - val_mean_absolute_error: 10.1566 - learning_rate: 0.0010\n",
      "Epoch 8/100\n",
      "\u001B[1m1/1\u001B[0m \u001B[32m━━━━━━━━━━━━━━━━━━━━\u001B[0m\u001B[37m\u001B[0m \u001B[1m0s\u001B[0m 26ms/step - loss: 3.5526 - mean_absolute_error: 3.5526 - val_loss: 9.7300 - val_mean_absolute_error: 9.7300 - learning_rate: 0.0010\n",
      "Epoch 9/100\n",
      "\u001B[1m1/1\u001B[0m \u001B[32m━━━━━━━━━━━━━━━━━━━━\u001B[0m\u001B[37m\u001B[0m \u001B[1m0s\u001B[0m 23ms/step - loss: 3.5227 - mean_absolute_error: 3.5227 - val_loss: 9.2957 - val_mean_absolute_error: 9.2957 - learning_rate: 0.0010\n",
      "Epoch 10/100\n",
      "\u001B[1m1/1\u001B[0m \u001B[32m━━━━━━━━━━━━━━━━━━━━\u001B[0m\u001B[37m\u001B[0m \u001B[1m0s\u001B[0m 19ms/step - loss: 3.6350 - mean_absolute_error: 3.6350 - val_loss: 8.9210 - val_mean_absolute_error: 8.9210 - learning_rate: 0.0010\n",
      "Epoch 11/100\n",
      "\u001B[1m1/1\u001B[0m \u001B[32m━━━━━━━━━━━━━━━━━━━━\u001B[0m\u001B[37m\u001B[0m \u001B[1m0s\u001B[0m 21ms/step - loss: 3.7727 - mean_absolute_error: 3.7727 - val_loss: 8.7445 - val_mean_absolute_error: 8.7445 - learning_rate: 0.0010\n",
      "Epoch 12/100\n",
      "\u001B[1m1/1\u001B[0m \u001B[32m━━━━━━━━━━━━━━━━━━━━\u001B[0m\u001B[37m\u001B[0m \u001B[1m0s\u001B[0m 22ms/step - loss: 3.7713 - mean_absolute_error: 3.7713 - val_loss: 8.6753 - val_mean_absolute_error: 8.6753 - learning_rate: 0.0010\n",
      "Epoch 13/100\n",
      "\u001B[1m1/1\u001B[0m \u001B[32m━━━━━━━━━━━━━━━━━━━━\u001B[0m\u001B[37m\u001B[0m \u001B[1m0s\u001B[0m 19ms/step - loss: 3.6286 - mean_absolute_error: 3.6286 - val_loss: 8.8167 - val_mean_absolute_error: 8.8167 - learning_rate: 0.0010\n",
      "Epoch 14/100\n",
      "\u001B[1m1/1\u001B[0m \u001B[32m━━━━━━━━━━━━━━━━━━━━\u001B[0m\u001B[37m\u001B[0m \u001B[1m0s\u001B[0m 22ms/step - loss: 3.4323 - mean_absolute_error: 3.4323 - val_loss: 9.0663 - val_mean_absolute_error: 9.0663 - learning_rate: 0.0010\n",
      "Epoch 15/100\n",
      "\u001B[1m1/1\u001B[0m \u001B[32m━━━━━━━━━━━━━━━━━━━━\u001B[0m\u001B[37m\u001B[0m \u001B[1m0s\u001B[0m 19ms/step - loss: 3.3018 - mean_absolute_error: 3.3018 - val_loss: 9.2932 - val_mean_absolute_error: 9.2932 - learning_rate: 0.0010\n",
      "Epoch 16/100\n",
      "\u001B[1m1/1\u001B[0m \u001B[32m━━━━━━━━━━━━━━━━━━━━\u001B[0m\u001B[37m\u001B[0m \u001B[1m0s\u001B[0m 20ms/step - loss: 3.3462 - mean_absolute_error: 3.3462 - val_loss: 9.4860 - val_mean_absolute_error: 9.4860 - learning_rate: 0.0010\n",
      "Epoch 17/100\n",
      "\u001B[1m1/1\u001B[0m \u001B[32m━━━━━━━━━━━━━━━━━━━━\u001B[0m\u001B[37m\u001B[0m \u001B[1m0s\u001B[0m 22ms/step - loss: 3.4674 - mean_absolute_error: 3.4674 - val_loss: 9.4463 - val_mean_absolute_error: 9.4463 - learning_rate: 0.0010\n",
      "Epoch 18/100\n",
      "\u001B[1m1/1\u001B[0m \u001B[32m━━━━━━━━━━━━━━━━━━━━\u001B[0m\u001B[37m\u001B[0m \u001B[1m0s\u001B[0m 18ms/step - loss: 3.4445 - mean_absolute_error: 3.4445 - val_loss: 9.1532 - val_mean_absolute_error: 9.1532 - learning_rate: 0.0010\n",
      "Epoch 19/100\n",
      "\u001B[1m1/1\u001B[0m \u001B[32m━━━━━━━━━━━━━━━━━━━━\u001B[0m\u001B[37m\u001B[0m \u001B[1m0s\u001B[0m 19ms/step - loss: 3.3277 - mean_absolute_error: 3.3277 - val_loss: 8.8579 - val_mean_absolute_error: 8.8579 - learning_rate: 0.0010\n",
      "Epoch 20/100\n",
      "\u001B[1m1/1\u001B[0m \u001B[32m━━━━━━━━━━━━━━━━━━━━\u001B[0m\u001B[37m\u001B[0m \u001B[1m0s\u001B[0m 19ms/step - loss: 3.2894 - mean_absolute_error: 3.2894 - val_loss: 8.6363 - val_mean_absolute_error: 8.6363 - learning_rate: 0.0010\n",
      "Epoch 21/100\n",
      "\u001B[1m1/1\u001B[0m \u001B[32m━━━━━━━━━━━━━━━━━━━━\u001B[0m\u001B[37m\u001B[0m \u001B[1m0s\u001B[0m 19ms/step - loss: 3.3366 - mean_absolute_error: 3.3366 - val_loss: 8.5387 - val_mean_absolute_error: 8.5387 - learning_rate: 0.0010\n",
      "Epoch 22/100\n",
      "\u001B[1m1/1\u001B[0m \u001B[32m━━━━━━━━━━━━━━━━━━━━\u001B[0m\u001B[37m\u001B[0m \u001B[1m0s\u001B[0m 19ms/step - loss: 3.3789 - mean_absolute_error: 3.3789 - val_loss: 8.5955 - val_mean_absolute_error: 8.5955 - learning_rate: 0.0010\n",
      "Epoch 23/100\n",
      "\u001B[1m1/1\u001B[0m \u001B[32m━━━━━━━━━━━━━━━━━━━━\u001B[0m\u001B[37m\u001B[0m \u001B[1m0s\u001B[0m 20ms/step - loss: 3.3452 - mean_absolute_error: 3.3452 - val_loss: 8.7822 - val_mean_absolute_error: 8.7822 - learning_rate: 0.0010\n",
      "Epoch 24/100\n",
      "\u001B[1m1/1\u001B[0m \u001B[32m━━━━━━━━━━━━━━━━━━━━\u001B[0m\u001B[37m\u001B[0m \u001B[1m0s\u001B[0m 21ms/step - loss: 3.2770 - mean_absolute_error: 3.2770 - val_loss: 9.0518 - val_mean_absolute_error: 9.0518 - learning_rate: 0.0010\n",
      "Epoch 25/100\n",
      "\u001B[1m1/1\u001B[0m \u001B[32m━━━━━━━━━━━━━━━━━━━━\u001B[0m\u001B[37m\u001B[0m \u001B[1m0s\u001B[0m 20ms/step - loss: 3.2449 - mean_absolute_error: 3.2449 - val_loss: 9.2940 - val_mean_absolute_error: 9.2940 - learning_rate: 0.0010\n",
      "Epoch 26/100\n",
      "\u001B[1m1/1\u001B[0m \u001B[32m━━━━━━━━━━━━━━━━━━━━\u001B[0m\u001B[37m\u001B[0m \u001B[1m0s\u001B[0m 20ms/step - loss: 3.2636 - mean_absolute_error: 3.2636 - val_loss: 9.4201 - val_mean_absolute_error: 9.4201 - learning_rate: 0.0010\n",
      "Epoch 27/100\n",
      "\u001B[1m1/1\u001B[0m \u001B[32m━━━━━━━━━━━━━━━━━━━━\u001B[0m\u001B[37m\u001B[0m \u001B[1m0s\u001B[0m 19ms/step - loss: 3.2987 - mean_absolute_error: 3.2987 - val_loss: 9.4029 - val_mean_absolute_error: 9.4029 - learning_rate: 0.0010\n",
      "Epoch 28/100\n",
      "\u001B[1m1/1\u001B[0m \u001B[32m━━━━━━━━━━━━━━━━━━━━\u001B[0m\u001B[37m\u001B[0m \u001B[1m0s\u001B[0m 19ms/step - loss: 3.2985 - mean_absolute_error: 3.2985 - val_loss: 9.2420 - val_mean_absolute_error: 9.2420 - learning_rate: 0.0010\n",
      "Epoch 29/100\n",
      "\u001B[1m1/1\u001B[0m \u001B[32m━━━━━━━━━━━━━━━━━━━━\u001B[0m\u001B[37m\u001B[0m \u001B[1m0s\u001B[0m 20ms/step - loss: 3.2572 - mean_absolute_error: 3.2572 - val_loss: 9.0400 - val_mean_absolute_error: 9.0400 - learning_rate: 0.0010\n",
      "Epoch 30/100\n",
      "\u001B[1m1/1\u001B[0m \u001B[32m━━━━━━━━━━━━━━━━━━━━\u001B[0m\u001B[37m\u001B[0m \u001B[1m0s\u001B[0m 20ms/step - loss: 3.2413 - mean_absolute_error: 3.2413 - val_loss: 8.8747 - val_mean_absolute_error: 8.8747 - learning_rate: 0.0010\n",
      "Epoch 31/100\n",
      "\u001B[1m1/1\u001B[0m \u001B[32m━━━━━━━━━━━━━━━━━━━━\u001B[0m\u001B[37m\u001B[0m \u001B[1m0s\u001B[0m 20ms/step - loss: 3.2480 - mean_absolute_error: 3.2480 - val_loss: 8.7860 - val_mean_absolute_error: 8.7860 - learning_rate: 0.0010\n",
      "Epoch 32/100\n",
      "\u001B[1m1/1\u001B[0m \u001B[32m━━━━━━━━━━━━━━━━━━━━\u001B[0m\u001B[37m\u001B[0m \u001B[1m0s\u001B[0m 19ms/step - loss: 3.2638 - mean_absolute_error: 3.2638 - val_loss: 8.8144 - val_mean_absolute_error: 8.8144 - learning_rate: 0.0010\n",
      "Epoch 33/100\n",
      "\u001B[1m1/1\u001B[0m \u001B[32m━━━━━━━━━━━━━━━━━━━━\u001B[0m\u001B[37m\u001B[0m \u001B[1m0s\u001B[0m 20ms/step - loss: 3.2547 - mean_absolute_error: 3.2547 - val_loss: 8.9442 - val_mean_absolute_error: 8.9442 - learning_rate: 0.0010\n",
      "Epoch 34/100\n",
      "\u001B[1m1/1\u001B[0m \u001B[32m━━━━━━━━━━━━━━━━━━━━\u001B[0m\u001B[37m\u001B[0m \u001B[1m0s\u001B[0m 19ms/step - loss: 3.2303 - mean_absolute_error: 3.2303 - val_loss: 9.1034 - val_mean_absolute_error: 9.1034 - learning_rate: 0.0010\n",
      "Epoch 35/100\n",
      "\u001B[1m1/1\u001B[0m \u001B[32m━━━━━━━━━━━━━━━━━━━━\u001B[0m\u001B[37m\u001B[0m \u001B[1m0s\u001B[0m 23ms/step - loss: 3.2296 - mean_absolute_error: 3.2296 - val_loss: 9.2140 - val_mean_absolute_error: 9.2140 - learning_rate: 0.0010\n",
      "Epoch 36/100\n",
      "\u001B[1m1/1\u001B[0m \u001B[32m━━━━━━━━━━━━━━━━━━━━\u001B[0m\u001B[37m\u001B[0m \u001B[1m0s\u001B[0m 18ms/step - loss: 3.2407 - mean_absolute_error: 3.2407 - val_loss: 9.2603 - val_mean_absolute_error: 9.2603 - learning_rate: 0.0010\n",
      "Epoch 37/100\n",
      "\u001B[1m1/1\u001B[0m \u001B[32m━━━━━━━━━━━━━━━━━━━━\u001B[0m\u001B[37m\u001B[0m \u001B[1m0s\u001B[0m 21ms/step - loss: 3.2471 - mean_absolute_error: 3.2471 - val_loss: 9.2093 - val_mean_absolute_error: 9.2093 - learning_rate: 0.0010\n",
      "Epoch 38/100\n",
      "\u001B[1m1/1\u001B[0m \u001B[32m━━━━━━━━━━━━━━━━━━━━\u001B[0m\u001B[37m\u001B[0m \u001B[1m0s\u001B[0m 21ms/step - loss: 3.2387 - mean_absolute_error: 3.2387 - val_loss: 9.0954 - val_mean_absolute_error: 9.0954 - learning_rate: 0.0010\n",
      "Epoch 39/100\n",
      "\u001B[1m1/1\u001B[0m \u001B[32m━━━━━━━━━━━━━━━━━━━━\u001B[0m\u001B[37m\u001B[0m \u001B[1m0s\u001B[0m 20ms/step - loss: 3.2299 - mean_absolute_error: 3.2299 - val_loss: 8.9780 - val_mean_absolute_error: 8.9780 - learning_rate: 0.0010\n",
      "Epoch 40/100\n",
      "\u001B[1m1/1\u001B[0m \u001B[32m━━━━━━━━━━━━━━━━━━━━\u001B[0m\u001B[37m\u001B[0m \u001B[1m0s\u001B[0m 19ms/step - loss: 3.2291 - mean_absolute_error: 3.2291 - val_loss: 8.8900 - val_mean_absolute_error: 8.8900 - learning_rate: 0.0010\n",
      "Epoch 41/100\n",
      "\u001B[1m1/1\u001B[0m \u001B[32m━━━━━━━━━━━━━━━━━━━━\u001B[0m\u001B[37m\u001B[0m \u001B[1m0s\u001B[0m 19ms/step - loss: 3.2272 - mean_absolute_error: 3.2272 - val_loss: 8.8547 - val_mean_absolute_error: 8.8547 - learning_rate: 0.0010\n",
      "Epoch 42/100\n",
      "\u001B[1m1/1\u001B[0m \u001B[32m━━━━━━━━━━━━━━━━━━━━\u001B[0m\u001B[37m\u001B[0m \u001B[1m0s\u001B[0m 19ms/step - loss: 3.2255 - mean_absolute_error: 3.2255 - val_loss: 8.9009 - val_mean_absolute_error: 8.9009 - learning_rate: 0.0010\n",
      "Epoch 43/100\n",
      "\u001B[1m1/1\u001B[0m \u001B[32m━━━━━━━━━━━━━━━━━━━━\u001B[0m\u001B[37m\u001B[0m \u001B[1m0s\u001B[0m 21ms/step - loss: 3.2227 - mean_absolute_error: 3.2227 - val_loss: 9.0058 - val_mean_absolute_error: 9.0058 - learning_rate: 0.0010\n",
      "Epoch 44/100\n",
      "\u001B[1m1/1\u001B[0m \u001B[32m━━━━━━━━━━━━━━━━━━━━\u001B[0m\u001B[37m\u001B[0m \u001B[1m0s\u001B[0m 20ms/step - loss: 3.2173 - mean_absolute_error: 3.2173 - val_loss: 9.1248 - val_mean_absolute_error: 9.1248 - learning_rate: 0.0010\n",
      "Epoch 45/100\n",
      "\u001B[1m1/1\u001B[0m \u001B[32m━━━━━━━━━━━━━━━━━━━━\u001B[0m\u001B[37m\u001B[0m \u001B[1m0s\u001B[0m 19ms/step - loss: 3.2165 - mean_absolute_error: 3.2165 - val_loss: 9.2158 - val_mean_absolute_error: 9.2158 - learning_rate: 0.0010\n",
      "Epoch 46/100\n",
      "\u001B[1m1/1\u001B[0m \u001B[32m━━━━━━━━━━━━━━━━━━━━\u001B[0m\u001B[37m\u001B[0m \u001B[1m0s\u001B[0m 20ms/step - loss: 3.2186 - mean_absolute_error: 3.2186 - val_loss: 9.2440 - val_mean_absolute_error: 9.2440 - learning_rate: 0.0010\n",
      "Epoch 47/100\n",
      "\u001B[1m1/1\u001B[0m \u001B[32m━━━━━━━━━━━━━━━━━━━━\u001B[0m\u001B[37m\u001B[0m \u001B[1m0s\u001B[0m 21ms/step - loss: 3.2183 - mean_absolute_error: 3.2183 - val_loss: 9.1840 - val_mean_absolute_error: 9.1840 - learning_rate: 0.0010\n",
      "Epoch 48/100\n",
      "\u001B[1m1/1\u001B[0m \u001B[32m━━━━━━━━━━━━━━━━━━━━\u001B[0m\u001B[37m\u001B[0m \u001B[1m0s\u001B[0m 20ms/step - loss: 3.2147 - mean_absolute_error: 3.2147 - val_loss: 9.0935 - val_mean_absolute_error: 9.0935 - learning_rate: 0.0010\n",
      "Epoch 49/100\n",
      "\u001B[1m1/1\u001B[0m \u001B[32m━━━━━━━━━━━━━━━━━━━━\u001B[0m\u001B[37m\u001B[0m \u001B[1m0s\u001B[0m 19ms/step - loss: 3.2138 - mean_absolute_error: 3.2138 - val_loss: 9.0137 - val_mean_absolute_error: 9.0137 - learning_rate: 0.0010\n",
      "Epoch 50/100\n",
      "\u001B[1m1/1\u001B[0m \u001B[32m━━━━━━━━━━━━━━━━━━━━\u001B[0m\u001B[37m\u001B[0m \u001B[1m0s\u001B[0m 21ms/step - loss: 3.2151 - mean_absolute_error: 3.2151 - val_loss: 8.9956 - val_mean_absolute_error: 8.9956 - learning_rate: 0.0010\n",
      "Epoch 51/100\n",
      "\u001B[1m1/1\u001B[0m \u001B[32m━━━━━━━━━━━━━━━━━━━━\u001B[0m\u001B[37m\u001B[0m \u001B[1m0s\u001B[0m 20ms/step - loss: 3.2133 - mean_absolute_error: 3.2133 - val_loss: 9.0271 - val_mean_absolute_error: 9.0271 - learning_rate: 0.0010\n",
      "Epoch 52/100\n",
      "\u001B[1m1/1\u001B[0m \u001B[32m━━━━━━━━━━━━━━━━━━━━\u001B[0m\u001B[37m\u001B[0m \u001B[1m0s\u001B[0m 19ms/step - loss: 3.2101 - mean_absolute_error: 3.2101 - val_loss: 9.0787 - val_mean_absolute_error: 9.0787 - learning_rate: 0.0010\n",
      "Epoch 53/100\n",
      "\u001B[1m1/1\u001B[0m \u001B[32m━━━━━━━━━━━━━━━━━━━━\u001B[0m\u001B[37m\u001B[0m \u001B[1m0s\u001B[0m 18ms/step - loss: 3.2084 - mean_absolute_error: 3.2084 - val_loss: 9.1373 - val_mean_absolute_error: 9.1373 - learning_rate: 0.0010\n",
      "Epoch 54/100\n",
      "\u001B[1m1/1\u001B[0m \u001B[32m━━━━━━━━━━━━━━━━━━━━\u001B[0m\u001B[37m\u001B[0m \u001B[1m0s\u001B[0m 20ms/step - loss: 3.2092 - mean_absolute_error: 3.2092 - val_loss: 9.1635 - val_mean_absolute_error: 9.1635 - learning_rate: 0.0010\n",
      "Epoch 55/100\n",
      "\u001B[1m1/1\u001B[0m \u001B[32m━━━━━━━━━━━━━━━━━━━━\u001B[0m\u001B[37m\u001B[0m \u001B[1m0s\u001B[0m 19ms/step - loss: 3.2107 - mean_absolute_error: 3.2107 - val_loss: 9.1372 - val_mean_absolute_error: 9.1372 - learning_rate: 0.0010\n",
      "Epoch 56/100\n",
      "\u001B[1m1/1\u001B[0m \u001B[32m━━━━━━━━━━━━━━━━━━━━\u001B[0m\u001B[37m\u001B[0m \u001B[1m0s\u001B[0m 22ms/step - loss: 3.2086 - mean_absolute_error: 3.2086 - val_loss: 9.0755 - val_mean_absolute_error: 9.0755 - learning_rate: 0.0010\n",
      "Epoch 57/100\n",
      "\u001B[1m1/1\u001B[0m \u001B[32m━━━━━━━━━━━━━━━━━━━━\u001B[0m\u001B[37m\u001B[0m \u001B[1m0s\u001B[0m 20ms/step - loss: 3.2042 - mean_absolute_error: 3.2042 - val_loss: 9.0158 - val_mean_absolute_error: 9.0158 - learning_rate: 0.0010\n",
      "Epoch 58/100\n",
      "\u001B[1m1/1\u001B[0m \u001B[32m━━━━━━━━━━━━━━━━━━━━\u001B[0m\u001B[37m\u001B[0m \u001B[1m0s\u001B[0m 20ms/step - loss: 3.2044 - mean_absolute_error: 3.2044 - val_loss: 8.9915 - val_mean_absolute_error: 8.9915 - learning_rate: 0.0010\n",
      "Epoch 59/100\n",
      "\u001B[1m1/1\u001B[0m \u001B[32m━━━━━━━━━━━━━━━━━━━━\u001B[0m\u001B[37m\u001B[0m \u001B[1m0s\u001B[0m 21ms/step - loss: 3.2051 - mean_absolute_error: 3.2051 - val_loss: 9.0297 - val_mean_absolute_error: 9.0297 - learning_rate: 0.0010\n",
      "Epoch 60/100\n",
      "\u001B[1m1/1\u001B[0m \u001B[32m━━━━━━━━━━━━━━━━━━━━\u001B[0m\u001B[37m\u001B[0m \u001B[1m0s\u001B[0m 20ms/step - loss: 3.2027 - mean_absolute_error: 3.2027 - val_loss: 9.1106 - val_mean_absolute_error: 9.1106 - learning_rate: 0.0010\n",
      "Epoch 61/100\n",
      "\u001B[1m1/1\u001B[0m \u001B[32m━━━━━━━━━━━━━━━━━━━━\u001B[0m\u001B[37m\u001B[0m \u001B[1m0s\u001B[0m 21ms/step - loss: 3.2020 - mean_absolute_error: 3.2020 - val_loss: 9.1836 - val_mean_absolute_error: 9.1836 - learning_rate: 0.0010\n",
      "Epoch 62/100\n",
      "\u001B[1m1/1\u001B[0m \u001B[32m━━━━━━━━━━━━━━━━━━━━\u001B[0m\u001B[37m\u001B[0m \u001B[1m0s\u001B[0m 29ms/step - loss: 3.2028 - mean_absolute_error: 3.2028 - val_loss: 9.2052 - val_mean_absolute_error: 9.2052 - learning_rate: 0.0010\n",
      "Epoch 63/100\n",
      "\u001B[1m1/1\u001B[0m \u001B[32m━━━━━━━━━━━━━━━━━━━━\u001B[0m\u001B[37m\u001B[0m \u001B[1m0s\u001B[0m 26ms/step - loss: 3.2027 - mean_absolute_error: 3.2027 - val_loss: 9.1806 - val_mean_absolute_error: 9.1806 - learning_rate: 0.0010\n",
      "Epoch 64/100\n",
      "\u001B[1m1/1\u001B[0m \u001B[32m━━━━━━━━━━━━━━━━━━━━\u001B[0m\u001B[37m\u001B[0m \u001B[1m0s\u001B[0m 21ms/step - loss: 3.2001 - mean_absolute_error: 3.2001 - val_loss: 9.1252 - val_mean_absolute_error: 9.1252 - learning_rate: 0.0010\n",
      "Epoch 65/100\n",
      "\u001B[1m1/1\u001B[0m \u001B[32m━━━━━━━━━━━━━━━━━━━━\u001B[0m\u001B[37m\u001B[0m \u001B[1m0s\u001B[0m 18ms/step - loss: 3.1969 - mean_absolute_error: 3.1969 - val_loss: 9.0757 - val_mean_absolute_error: 9.0757 - learning_rate: 0.0010\n",
      "Epoch 66/100\n",
      "\u001B[1m1/1\u001B[0m \u001B[32m━━━━━━━━━━━━━━━━━━━━\u001B[0m\u001B[37m\u001B[0m \u001B[1m0s\u001B[0m 19ms/step - loss: 3.1977 - mean_absolute_error: 3.1977 - val_loss: 9.0750 - val_mean_absolute_error: 9.0750 - learning_rate: 0.0010\n",
      "Epoch 67/100\n",
      "\u001B[1m1/1\u001B[0m \u001B[32m━━━━━━━━━━━━━━━━━━━━\u001B[0m\u001B[37m\u001B[0m \u001B[1m0s\u001B[0m 19ms/step - loss: 3.1967 - mean_absolute_error: 3.1967 - val_loss: 9.1123 - val_mean_absolute_error: 9.1123 - learning_rate: 0.0010\n",
      "Epoch 68/100\n",
      "\u001B[1m1/1\u001B[0m \u001B[32m━━━━━━━━━━━━━━━━━━━━\u001B[0m\u001B[37m\u001B[0m \u001B[1m0s\u001B[0m 18ms/step - loss: 3.1945 - mean_absolute_error: 3.1945 - val_loss: 9.1417 - val_mean_absolute_error: 9.1417 - learning_rate: 0.0010\n",
      "Epoch 69/100\n",
      "\u001B[1m1/1\u001B[0m \u001B[32m━━━━━━━━━━━━━━━━━━━━\u001B[0m\u001B[37m\u001B[0m \u001B[1m0s\u001B[0m 25ms/step - loss: 3.1950 - mean_absolute_error: 3.1950 - val_loss: 9.1365 - val_mean_absolute_error: 9.1365 - learning_rate: 0.0010\n",
      "Epoch 70/100\n",
      "\u001B[1m1/1\u001B[0m \u001B[32m━━━━━━━━━━━━━━━━━━━━\u001B[0m\u001B[37m\u001B[0m \u001B[1m0s\u001B[0m 22ms/step - loss: 3.1936 - mean_absolute_error: 3.1936 - val_loss: 9.1106 - val_mean_absolute_error: 9.1106 - learning_rate: 0.0010\n",
      "Epoch 71/100\n",
      "\u001B[1m1/1\u001B[0m \u001B[32m━━━━━━━━━━━━━━━━━━━━\u001B[0m\u001B[37m\u001B[0m \u001B[1m0s\u001B[0m 20ms/step - loss: 3.1925 - mean_absolute_error: 3.1925 - val_loss: 9.0771 - val_mean_absolute_error: 9.0771 - learning_rate: 0.0010\n",
      "Epoch 72/100\n",
      "\u001B[1m1/1\u001B[0m \u001B[32m━━━━━━━━━━━━━━━━━━━━\u001B[0m\u001B[37m\u001B[0m \u001B[1m0s\u001B[0m 20ms/step - loss: 3.1913 - mean_absolute_error: 3.1913 - val_loss: 9.0479 - val_mean_absolute_error: 9.0479 - learning_rate: 0.0010\n",
      "Epoch 73/100\n",
      "\u001B[1m1/1\u001B[0m \u001B[32m━━━━━━━━━━━━━━━━━━━━\u001B[0m\u001B[37m\u001B[0m \u001B[1m0s\u001B[0m 19ms/step - loss: 3.1910 - mean_absolute_error: 3.1910 - val_loss: 9.0573 - val_mean_absolute_error: 9.0573 - learning_rate: 0.0010\n",
      "Epoch 74/100\n",
      "\u001B[1m1/1\u001B[0m \u001B[32m━━━━━━━━━━━━━━━━━━━━\u001B[0m\u001B[37m\u001B[0m \u001B[1m0s\u001B[0m 20ms/step - loss: 3.1904 - mean_absolute_error: 3.1904 - val_loss: 9.1063 - val_mean_absolute_error: 9.1063 - learning_rate: 0.0010\n",
      "Epoch 75/100\n",
      "\u001B[1m1/1\u001B[0m \u001B[32m━━━━━━━━━━━━━━━━━━━━\u001B[0m\u001B[37m\u001B[0m \u001B[1m0s\u001B[0m 19ms/step - loss: 3.1881 - mean_absolute_error: 3.1881 - val_loss: 9.1625 - val_mean_absolute_error: 9.1625 - learning_rate: 0.0010\n",
      "Epoch 76/100\n",
      "\u001B[1m1/1\u001B[0m \u001B[32m━━━━━━━━━━━━━━━━━━━━\u001B[0m\u001B[37m\u001B[0m \u001B[1m0s\u001B[0m 22ms/step - loss: 3.1882 - mean_absolute_error: 3.1882 - val_loss: 9.1927 - val_mean_absolute_error: 9.1927 - learning_rate: 0.0010\n",
      "Epoch 77/100\n",
      "\u001B[1m1/1\u001B[0m \u001B[32m━━━━━━━━━━━━━━━━━━━━\u001B[0m\u001B[37m\u001B[0m \u001B[1m0s\u001B[0m 22ms/step - loss: 3.1872 - mean_absolute_error: 3.1872 - val_loss: 9.1910 - val_mean_absolute_error: 9.1910 - learning_rate: 0.0010\n",
      "Epoch 78/100\n",
      "\u001B[1m1/1\u001B[0m \u001B[32m━━━━━━━━━━━━━━━━━━━━\u001B[0m\u001B[37m\u001B[0m \u001B[1m0s\u001B[0m 18ms/step - loss: 3.1845 - mean_absolute_error: 3.1845 - val_loss: 9.1569 - val_mean_absolute_error: 9.1569 - learning_rate: 0.0010\n",
      "Epoch 79/100\n",
      "\u001B[1m1/1\u001B[0m \u001B[32m━━━━━━━━━━━━━━━━━━━━\u001B[0m\u001B[37m\u001B[0m \u001B[1m0s\u001B[0m 18ms/step - loss: 3.1839 - mean_absolute_error: 3.1839 - val_loss: 9.1451 - val_mean_absolute_error: 9.1451 - learning_rate: 0.0010\n",
      "Epoch 80/100\n",
      "\u001B[1m1/1\u001B[0m \u001B[32m━━━━━━━━━━━━━━━━━━━━\u001B[0m\u001B[37m\u001B[0m \u001B[1m0s\u001B[0m 19ms/step - loss: 3.1834 - mean_absolute_error: 3.1834 - val_loss: 9.1708 - val_mean_absolute_error: 9.1708 - learning_rate: 0.0010\n",
      "Epoch 81/100\n",
      "\u001B[1m1/1\u001B[0m \u001B[32m━━━━━━━━━━━━━━━━━━━━\u001B[0m\u001B[37m\u001B[0m \u001B[1m0s\u001B[0m 18ms/step - loss: 3.1822 - mean_absolute_error: 3.1822 - val_loss: 9.1987 - val_mean_absolute_error: 9.1987 - learning_rate: 0.0010\n",
      "Epoch 82/100\n",
      "\u001B[1m1/1\u001B[0m \u001B[32m━━━━━━━━━━━━━━━━━━━━\u001B[0m\u001B[37m\u001B[0m \u001B[1m0s\u001B[0m 19ms/step - loss: 3.1820 - mean_absolute_error: 3.1820 - val_loss: 9.2134 - val_mean_absolute_error: 9.2134 - learning_rate: 0.0010\n",
      "Epoch 83/100\n",
      "\u001B[1m1/1\u001B[0m \u001B[32m━━━━━━━━━━━━━━━━━━━━\u001B[0m\u001B[37m\u001B[0m \u001B[1m0s\u001B[0m 20ms/step - loss: 3.1810 - mean_absolute_error: 3.1810 - val_loss: 9.1812 - val_mean_absolute_error: 9.1812 - learning_rate: 0.0010\n",
      "Epoch 84/100\n",
      "\u001B[1m1/1\u001B[0m \u001B[32m━━━━━━━━━━━━━━━━━━━━\u001B[0m\u001B[37m\u001B[0m \u001B[1m0s\u001B[0m 19ms/step - loss: 3.1788 - mean_absolute_error: 3.1788 - val_loss: 9.1504 - val_mean_absolute_error: 9.1504 - learning_rate: 0.0010\n",
      "Epoch 85/100\n",
      "\u001B[1m1/1\u001B[0m \u001B[32m━━━━━━━━━━━━━━━━━━━━\u001B[0m\u001B[37m\u001B[0m \u001B[1m0s\u001B[0m 19ms/step - loss: 3.1795 - mean_absolute_error: 3.1795 - val_loss: 9.1415 - val_mean_absolute_error: 9.1415 - learning_rate: 0.0010\n",
      "Epoch 86/100\n",
      "\u001B[1m1/1\u001B[0m \u001B[32m━━━━━━━━━━━━━━━━━━━━\u001B[0m\u001B[37m\u001B[0m \u001B[1m0s\u001B[0m 25ms/step - loss: 3.1788 - mean_absolute_error: 3.1788 - val_loss: 9.1523 - val_mean_absolute_error: 9.1523 - learning_rate: 0.0010\n",
      "Epoch 87/100\n",
      "\u001B[1m1/1\u001B[0m \u001B[32m━━━━━━━━━━━━━━━━━━━━\u001B[0m\u001B[37m\u001B[0m \u001B[1m0s\u001B[0m 38ms/step - loss: 3.1765 - mean_absolute_error: 3.1765 - val_loss: 9.1837 - val_mean_absolute_error: 9.1837 - learning_rate: 0.0010\n",
      "Epoch 88/100\n",
      "\u001B[1m1/1\u001B[0m \u001B[32m━━━━━━━━━━━━━━━━━━━━\u001B[0m\u001B[37m\u001B[0m \u001B[1m0s\u001B[0m 20ms/step - loss: 3.1769 - mean_absolute_error: 3.1769 - val_loss: 9.1888 - val_mean_absolute_error: 9.1888 - learning_rate: 0.0010\n",
      "Epoch 89/100\n",
      "\u001B[1m1/1\u001B[0m \u001B[32m━━━━━━━━━━━━━━━━━━━━\u001B[0m\u001B[37m\u001B[0m \u001B[1m0s\u001B[0m 19ms/step - loss: 3.1765 - mean_absolute_error: 3.1765 - val_loss: 9.1639 - val_mean_absolute_error: 9.1639 - learning_rate: 0.0010\n",
      "Epoch 90/100\n",
      "\u001B[1m1/1\u001B[0m \u001B[32m━━━━━━━━━━━━━━━━━━━━\u001B[0m\u001B[37m\u001B[0m \u001B[1m0s\u001B[0m 23ms/step - loss: 3.1747 - mean_absolute_error: 3.1747 - val_loss: 9.1205 - val_mean_absolute_error: 9.1205 - learning_rate: 0.0010\n",
      "Epoch 91/100\n",
      "\u001B[1m1/1\u001B[0m \u001B[32m━━━━━━━━━━━━━━━━━━━━\u001B[0m\u001B[37m\u001B[0m \u001B[1m0s\u001B[0m 20ms/step - loss: 3.1735 - mean_absolute_error: 3.1735 - val_loss: 9.0999 - val_mean_absolute_error: 9.0999 - learning_rate: 0.0010\n",
      "Epoch 92/100\n",
      "\u001B[1m1/1\u001B[0m \u001B[32m━━━━━━━━━━━━━━━━━━━━\u001B[0m\u001B[37m\u001B[0m \u001B[1m0s\u001B[0m 19ms/step - loss: 3.1740 - mean_absolute_error: 3.1740 - val_loss: 9.1220 - val_mean_absolute_error: 9.1220 - learning_rate: 0.0010\n",
      "Epoch 93/100\n",
      "\u001B[1m1/1\u001B[0m \u001B[32m━━━━━━━━━━━━━━━━━━━━\u001B[0m\u001B[37m\u001B[0m \u001B[1m0s\u001B[0m 19ms/step - loss: 3.1724 - mean_absolute_error: 3.1724 - val_loss: 9.1536 - val_mean_absolute_error: 9.1536 - learning_rate: 0.0010\n",
      "Epoch 94/100\n",
      "\u001B[1m1/1\u001B[0m \u001B[32m━━━━━━━━━━━━━━━━━━━━\u001B[0m\u001B[37m\u001B[0m \u001B[1m0s\u001B[0m 20ms/step - loss: 3.1707 - mean_absolute_error: 3.1707 - val_loss: 9.1836 - val_mean_absolute_error: 9.1836 - learning_rate: 0.0010\n",
      "Epoch 95/100\n",
      "\u001B[1m1/1\u001B[0m \u001B[32m━━━━━━━━━━━━━━━━━━━━\u001B[0m\u001B[37m\u001B[0m \u001B[1m0s\u001B[0m 19ms/step - loss: 3.1698 - mean_absolute_error: 3.1698 - val_loss: 9.2000 - val_mean_absolute_error: 9.2000 - learning_rate: 0.0010\n",
      "Epoch 96/100\n",
      "\u001B[1m1/1\u001B[0m \u001B[32m━━━━━━━━━━━━━━━━━━━━\u001B[0m\u001B[37m\u001B[0m \u001B[1m0s\u001B[0m 23ms/step - loss: 3.1696 - mean_absolute_error: 3.1696 - val_loss: 9.2002 - val_mean_absolute_error: 9.2002 - learning_rate: 0.0010\n",
      "Epoch 97/100\n",
      "\u001B[1m1/1\u001B[0m \u001B[32m━━━━━━━━━━━━━━━━━━━━\u001B[0m\u001B[37m\u001B[0m \u001B[1m0s\u001B[0m 25ms/step - loss: 3.1686 - mean_absolute_error: 3.1686 - val_loss: 9.1946 - val_mean_absolute_error: 9.1946 - learning_rate: 0.0010\n",
      "Epoch 98/100\n",
      "\u001B[1m1/1\u001B[0m \u001B[32m━━━━━━━━━━━━━━━━━━━━\u001B[0m\u001B[37m\u001B[0m \u001B[1m0s\u001B[0m 49ms/step - loss: 3.1671 - mean_absolute_error: 3.1671 - val_loss: 9.1651 - val_mean_absolute_error: 9.1651 - learning_rate: 0.0010\n",
      "Epoch 99/100\n",
      "\u001B[1m1/1\u001B[0m \u001B[32m━━━━━━━━━━━━━━━━━━━━\u001B[0m\u001B[37m\u001B[0m \u001B[1m0s\u001B[0m 22ms/step - loss: 3.1655 - mean_absolute_error: 3.1655 - val_loss: 9.1486 - val_mean_absolute_error: 9.1486 - learning_rate: 0.0010\n",
      "Epoch 100/100\n",
      "\u001B[1m1/1\u001B[0m \u001B[32m━━━━━━━━━━━━━━━━━━━━\u001B[0m\u001B[37m\u001B[0m \u001B[1m0s\u001B[0m 19ms/step - loss: 3.1656 - mean_absolute_error: 3.1656 - val_loss: 9.1556 - val_mean_absolute_error: 9.1556 - learning_rate: 0.0010\n"
     ]
    },
    {
     "data": {
      "text/plain": [
       "<keras.src.callbacks.history.History at 0x169a5dd80>"
      ]
     },
     "execution_count": 72,
     "metadata": {},
     "output_type": "execute_result"
    }
   ],
   "execution_count": 72
  },
  {
   "metadata": {
    "ExecuteTime": {
     "end_time": "2024-06-26T14:43:32.321959Z",
     "start_time": "2024-06-26T14:43:32.297846Z"
    }
   },
   "cell_type": "code",
   "source": [
    "def predict_prices_7days():\n",
    "    prices = [float(data[date]['4. close']) for date in sorted(data.keys())[-30:]]\n",
    "    # Assume model expects input shape [1, 30, 1] for one feature per day\n",
    "    prices = np.array(prices).reshape(1, -1, 1)\n",
    "    predictions = new_model.predict(prices)\n",
    "    return predictions.flatten().tolist()\n",
    "\n",
    "predictions = predict_prices_7days()\n",
    "predictions"
   ],
   "id": "6abec56558189a75",
   "outputs": [
    {
     "name": "stdout",
     "output_type": "stream",
     "text": [
      "\u001B[1m1/1\u001B[0m \u001B[32m━━━━━━━━━━━━━━━━━━━━\u001B[0m\u001B[37m\u001B[0m \u001B[1m0s\u001B[0m 7ms/step\n"
     ]
    },
    {
     "data": {
      "text/plain": [
       "[209.37155151367188,\n",
       " 210.1636199951172,\n",
       " 211.3349609375,\n",
       " 211.29542541503906,\n",
       " 214.39039611816406,\n",
       " 216.74713134765625,\n",
       " 217.32171630859375]"
      ]
     },
     "execution_count": 73,
     "metadata": {},
     "output_type": "execute_result"
    }
   ],
   "execution_count": 73
  },
  {
   "metadata": {},
   "cell_type": "code",
   "outputs": [],
   "execution_count": null,
   "source": "",
   "id": "533e4c32a4d17f58"
  }
 ],
 "metadata": {
  "kernelspec": {
   "display_name": "Python 3",
   "language": "python",
   "name": "python3"
  },
  "language_info": {
   "codemirror_mode": {
    "name": "ipython",
    "version": 2
   },
   "file_extension": ".py",
   "mimetype": "text/x-python",
   "name": "python",
   "nbconvert_exporter": "python",
   "pygments_lexer": "ipython2",
   "version": "2.7.6"
  }
 },
 "nbformat": 4,
 "nbformat_minor": 5
}
